{
  "nbformat": 4,
  "nbformat_minor": 0,
  "metadata": {
    "colab": {
      "provenance": []
    },
    "kernelspec": {
      "name": "python3",
      "display_name": "Python 3"
    },
    "language_info": {
      "name": "python"
    }
  },
  "cells": [
    {
      "cell_type": "code",
      "execution_count": 2,
      "metadata": {
        "id": "3E0l8CHUqPq4"
      },
      "outputs": [],
      "source": [
        "import pandas as pd\n",
        "from sklearn.impute import SimpleImputer\n",
        "from sklearn.preprocessing import StandardScaler, OneHotEncoder\n",
        "from sklearn.compose import ColumnTransformer\n",
        "from sklearn.pipeline import Pipeline\n",
        "from sklearn.model_selection import train_test_split\n",
        "import joblib"
      ]
    },
    {
      "cell_type": "code",
      "source": [
        "def load_data(filepath='/content/tested.csv'):\n",
        "    print(\"Loading data...\")\n",
        "    return pd.read_csv(filepath)"
      ],
      "metadata": {
        "id": "hIvXkHTIr6F9"
      },
      "execution_count": 3,
      "outputs": []
    },
    {
      "cell_type": "code",
      "source": [
        "def load_data(filepath='tested.csv'):\n",
        "    print(\"Loading data...\")\n",
        "    return pd.read_csv(filepath)\n",
        "\n",
        "# Preprocess and transform the data\n",
        "def preprocess_data(df):\n",
        "    print(\"Preprocessing...\")\n",
        "\n",
        "    df = df.drop(['Name', 'Cabin', 'Ticket', 'PassengerId'], axis=1)\n",
        "\n",
        "    X = df.drop('Survived', axis=1)\n",
        "    y = df['Survived']\n",
        "\n",
        "    num_features = ['Age', 'Fare', 'SibSp', 'Parch', 'Pclass']\n",
        "    cat_features = ['Sex', 'Embarked']\n",
        "\n",
        "    num_transformer = Pipeline(steps=[\n",
        "        ('imputer', SimpleImputer(strategy='mean')),\n",
        "        ('scaler', StandardScaler())\n",
        "    ])\n",
        "\n",
        "    cat_transformer = Pipeline(steps=[\n",
        "        ('imputer', SimpleImputer(strategy='most_frequent')),\n",
        "        ('onehot', OneHotEncoder(handle_unknown='ignore'))\n",
        "    ])\n",
        "\n",
        "    preprocessor = ColumnTransformer(transformers=[\n",
        "        ('num', num_transformer, num_features),\n",
        "        ('cat', cat_transformer, cat_features)\n",
        "    ])\n",
        "\n",
        "    pipeline = Pipeline(steps=[('preprocessor', preprocessor)])\n",
        "    X_processed = pipeline.fit_transform(X)\n",
        "\n",
        "    return X_processed, y, pipeline"
      ],
      "metadata": {
        "id": "QDTD6orruOG2"
      },
      "execution_count": 7,
      "outputs": []
    },
    {
      "cell_type": "code",
      "source": [
        "def save_data(X, y, pipeline):\n",
        "    print(\"Saving data...\")\n",
        "    X_train, X_test, y_train, y_test = train_test_split(X, y, test_size=0.2, random_state=42)\n",
        "    joblib.dump((X_train, X_test, y_train, y_test), 'processed_titanic_data.pkl')\n",
        "    joblib.dump(pipeline, 'titanic_pipeline.joblib')\n",
        "    print(\"Data and pipeline saved.\")"
      ],
      "metadata": {
        "id": "cKuC_uSNu5DM"
      },
      "execution_count": 8,
      "outputs": []
    },
    {
      "cell_type": "code",
      "source": [
        "def main():\n",
        "    df = load_data('tested.csv')\n",
        "    X, y, pipeline = preprocess_data(df)\n",
        "    save_data(X, y, pipeline)\n",
        "\n",
        "if __name__ == '__main__':\n",
        "    main()"
      ],
      "metadata": {
        "colab": {
          "base_uri": "https://localhost:8080/"
        },
        "id": "1q9czFF5u6J4",
        "outputId": "5c22415c-ff90-4c61-a8b1-2bdf2b2678da"
      },
      "execution_count": 9,
      "outputs": [
        {
          "output_type": "stream",
          "name": "stdout",
          "text": [
            "Loading data...\n",
            "Preprocessing...\n",
            "Saving data...\n",
            "Data and pipeline saved.\n"
          ]
        }
      ]
    }
  ]
}